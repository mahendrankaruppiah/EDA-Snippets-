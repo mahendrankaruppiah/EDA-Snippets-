{
 "cells": [
  {
   "cell_type": "markdown",
   "id": "993df2ab",
   "metadata": {},
   "source": [
    "# Machine Learning EDA Snippets\n",
    "This notebook contains various Python code snippets commonly used in Machine Learning Exploratory Data Analysis (EDA). Each snippet is categorized for better understanding."
   ]
  },
  {
   "cell_type": "markdown",
   "id": "397a88db",
   "metadata": {},
   "source": [
    "## 1. Data Loading and Basic Exploration\n",
    "Below are some useful code snippets for loading and performing basic exploration of datasets."
   ]
  },
  {
   "cell_type": "code",
   "execution_count": null,
   "id": "68d9b8c4",
   "metadata": {},
   "outputs": [],
   "source": [
    "# Importing necessary libraries\n",
    "import pandas as pd\n",
    "import numpy as np"
   ]
  },
  {
   "cell_type": "code",
   "execution_count": null,
   "id": "10eba96d",
   "metadata": {},
   "outputs": [],
   "source": [
    "# Loading a CSV file\n",
    "df = pd.read_csv('your_data.csv')\n",
    "df.head()  # Displays the first 5 rows"
   ]
  },
  {
   "cell_type": "code",
   "execution_count": null,
   "id": "b03e32fa",
   "metadata": {},
   "outputs": [],
   "source": [
    "# Checking the shape of the dataset\n",
    "df.shape  # Returns (rows, columns)"
   ]
  },
  {
   "cell_type": "code",
   "execution_count": null,
   "id": "01cde2b0",
   "metadata": {},
   "outputs": [],
   "source": [
    "# Getting summary statistics of numerical columns\n",
    "df.describe()"
   ]
  },
  {
   "cell_type": "code",
   "execution_count": null,
   "id": "3f9c5548",
   "metadata": {},
   "outputs": [],
   "source": [
    "# Checking for missing values in the dataset\n",
    "df.isnull().sum()"
   ]
  },
  {
   "cell_type": "code",
   "execution_count": null,
   "id": "b77c26e7",
   "metadata": {},
   "outputs": [],
   "source": [
    "# Displaying the data types of each column\n",
    "df.dtypes"
   ]
  },
  {
   "cell_type": "markdown",
   "id": "c36d088f",
   "metadata": {},
   "source": [
    "## 2. Handling Missing Data\n",
    "These snippets help you handle missing data effectively."
   ]
  },
  {
   "cell_type": "code",
   "execution_count": null,
   "id": "fad23e6f",
   "metadata": {},
   "outputs": [],
   "source": [
    "# Filling missing values with the mean of the column\n",
    "df['column_name'].fillna(df['column_name'].mean(), inplace=True)"
   ]
  },
  {
   "cell_type": "code",
   "execution_count": null,
   "id": "5d8bd996",
   "metadata": {},
   "outputs": [],
   "source": [
    "# Dropping rows with missing values\n",
    "df.dropna(inplace=True)"
   ]
  },
  {
   "cell_type": "code",
   "execution_count": null,
   "id": "b7047a38",
   "metadata": {},
   "outputs": [],
   "source": [
    "# Filling missing categorical values with the mode\n",
    "df['column_name'].fillna(df['column_name'].mode()[0], inplace=True)"
   ]
  },
  {
   "cell_type": "code",
   "execution_count": null,
   "id": "910b163b",
   "metadata": {},
   "outputs": [],
   "source": [
    "# Forward fill to propagate the last valid observation forward\n",
    "df.fillna(method='ffill', inplace=True)"
   ]
  },
  {
   "cell_type": "markdown",
   "id": "b054349d",
   "metadata": {},
   "source": [
    "## 3. Data Transformation and Feature Engineering\n",
    "This section contains snippets to help with feature engineering and data transformation."
   ]
  },
  {
   "cell_type": "code",
   "execution_count": null,
   "id": "96045209",
   "metadata": {},
   "outputs": [],
   "source": [
    "# Log transformation for skewed data\n",
    "df['log_column'] = np.log(df['column_name'] + 1)"
   ]
  },
  {
   "cell_type": "code",
   "execution_count": null,
   "id": "11491d1e",
   "metadata": {},
   "outputs": [],
   "source": [
    "# Creating a new feature from existing features\n",
    "df['new_feature'] = df['feature1'] * df['feature2']"
   ]
  },
  {
   "cell_type": "code",
   "execution_count": null,
   "id": "eb86c4dc",
   "metadata": {},
   "outputs": [],
   "source": [
    "# Binning continuous data into categories\n",
    "df['binned_column'] = pd.cut(df['column_name'], bins=[0, 10, 20, 30], labels=['Low', 'Medium', 'High'])"
   ]
  },
  {
   "cell_type": "code",
   "execution_count": null,
   "id": "1975692c",
   "metadata": {},
   "outputs": [],
   "source": [
    "# Label encoding for categorical variables\n",
    "df['encoded_column'] = df['categorical_column'].astype('category').cat.codes"
   ]
  },
  {
   "cell_type": "markdown",
   "id": "47303791",
   "metadata": {},
   "source": [
    "## 4. Data Visualization\n",
    "Visualizations are crucial for understanding data patterns."
   ]
  },
  {
   "cell_type": "code",
   "execution_count": null,
   "id": "744c732d",
   "metadata": {},
   "outputs": [],
   "source": [
    "import matplotlib.pyplot as plt\n",
    "import seaborn as sns"
   ]
  },
  {
   "cell_type": "code",
   "execution_count": null,
   "id": "e06c8ca7",
   "metadata": {},
   "outputs": [],
   "source": [
    "# Plotting a histogram for a numerical column\n",
    "plt.hist(df['column_name'], bins=20)\n",
    "plt.xlabel('Value')\n",
    "plt.ylabel('Frequency')\n",
    "plt.title('Histogram of column_name')\n",
    "plt.show()"
   ]
  },
  {
   "cell_type": "code",
   "execution_count": null,
   "id": "b241866c",
   "metadata": {},
   "outputs": [],
   "source": [
    "# Creating a boxplot for a numerical column\n",
    "sns.boxplot(x=df['column_name'])\n",
    "plt.title('Boxplot of column_name')\n",
    "plt.show()"
   ]
  },
  {
   "cell_type": "code",
   "execution_count": null,
   "id": "825c4423",
   "metadata": {},
   "outputs": [],
   "source": [
    "# Correlation matrix heatmap\n",
    "corr_matrix = df.corr()\n",
    "sns.heatmap(corr_matrix, annot=True, cmap='coolwarm')\n",
    "plt.title('Correlation Matrix')\n",
    "plt.show()"
   ]
  },
  {
   "cell_type": "code",
   "execution_count": null,
   "id": "1370e165",
   "metadata": {},
   "outputs": [],
   "source": [
    "# Scatter plot for two numerical columns\n",
    "plt.scatter(df['column1'], df['column2'])\n",
    "plt.xlabel('column1')\n",
    "plt.ylabel('column2')\n",
    "plt.title('Scatter plot between column1 and column2')\n",
    "plt.show()"
   ]
  },
  {
   "cell_type": "markdown",
   "id": "782df96b",
   "metadata": {},
   "source": [
    "## 5. Handling Outliers\n",
    "Outliers can significantly affect your models, and handling them is crucial."
   ]
  },
  {
   "cell_type": "code",
   "execution_count": null,
   "id": "a597b2d6",
   "metadata": {},
   "outputs": [],
   "source": [
    "# Identifying outliers using IQR\n",
    "Q1 = df['column_name'].quantile(0.25)\n",
    "Q3 = df['column_name'].quantile(0.75)\n",
    "IQR = Q3 - Q1\n",
    "outliers = df[(df['column_name'] < (Q1 - 1.5 * IQR)) | (df['column_name'] > (Q3 + 1.5 * IQR))]"
   ]
  },
  {
   "cell_type": "code",
   "execution_count": null,
   "id": "ba61abc2",
   "metadata": {},
   "outputs": [],
   "source": [
    "# Removing outliers from the dataset\n",
    "df = df[~((df['column_name'] < (Q1 - 1.5 * IQR)) | (df['column_name'] > (Q3 + 1.5 * IQR)))]"
   ]
  },
  {
   "cell_type": "markdown",
   "id": "688e86e2",
   "metadata": {},
   "source": [
    "## 6. Bucketing and Grouping\n",
    "Grouping and bucketing are useful for summarizing data."
   ]
  },
  {
   "cell_type": "code",
   "execution_count": null,
   "id": "66de81cc",
   "metadata": {},
   "outputs": [],
   "source": [
    "# Bucketing ages into categories\n",
    "df['age_group'] = pd.cut(df['age'], bins=[0, 12, 19, 35, 60, 100], labels=['Child', 'Teen', 'Adult', 'Middle Aged', 'Senior'])"
   ]
  },
  {
   "cell_type": "code",
   "execution_count": null,
   "id": "fcee04a9",
   "metadata": {},
   "outputs": [],
   "source": [
    "# Grouping data and calculating mean\n",
    "grouped_data = df.groupby('category_column')['value_column'].mean().reset_index()"
   ]
  },
  {
   "cell_type": "code",
   "execution_count": null,
   "id": "63bbc906",
   "metadata": {},
   "outputs": [],
   "source": [
    "# Pivot table for summarizing data\n",
    "pivot_table = pd.pivot_table(df, values='value_column', index='category_column', columns='another_category', aggfunc='mean')"
   ]
  },
  {
   "cell_type": "markdown",
   "id": "15e43167",
   "metadata": {},
   "source": [
    "## 7. Regular Expressions (Regex)\n",
    "Regex is powerful for string manipulation and extraction."
   ]
  },
  {
   "cell_type": "code",
   "execution_count": null,
   "id": "a1516ef5",
   "metadata": {},
   "outputs": [],
   "source": [
    "import re"
   ]
  },
  {
   "cell_type": "code",
   "execution_count": null,
   "id": "ddb5cfbc",
   "metadata": {},
   "outputs": [],
   "source": [
    "# Extracting numerical values from a string column\n",
    "df['extracted_values'] = df['string_column'].str.extract('(\\d+)')"
   ]
  },
  {
   "cell_type": "code",
   "execution_count": null,
   "id": "8605be65",
   "metadata": {},
   "outputs": [],
   "source": [
    "# Replacing patterns in a string column\n",
    "df['cleaned_column'] = df['string_column'].str.replace(r'\\D+', '')"
   ]
  },
  {
   "cell_type": "code",
   "execution_count": null,
   "id": "851a1b4e",
   "metadata": {},
   "outputs": [],
   "source": [
    "# Checking if a column contains a specific pattern\n",
    "df['contains_pattern'] = df['string_column'].str.contains(r'^pattern.*$')"
   ]
  },
  {
   "cell_type": "markdown",
   "id": "f90b8759",
   "metadata": {},
   "source": [
    "## 8. Advanced Feature Engineering\n",
    "Creating features that improve model performance."
   ]
  },
  {
   "cell_type": "code",
   "execution_count": null,
   "id": "a6a9d789",
   "metadata": {},
   "outputs": [],
   "source": [
    "# Polynomial feature creation\n",
    "from sklearn.preprocessing import PolynomialFeatures\n",
    "\n",
    "poly = PolynomialFeatures(degree=2, include_bias=False)\n",
    "poly_features = poly.fit_transform(df[['feature1', 'feature2']])\n",
    "df_poly = pd.DataFrame(poly_features, columns=poly.get_feature_names(['feature1', 'feature2']))"
   ]
  },
  {
   "cell_type": "code",
   "execution_count": null,
   "id": "5326d2a3",
   "metadata": {},
   "outputs": [],
   "source": [
    "# Interaction features\n",
    "df['interaction_feature'] = df['feature1'] * df['feature2']"
   ]
  },
  {
   "cell_type": "code",
   "execution_count": null,
   "id": "ce52156b",
   "metadata": {},
   "outputs": [],
   "source": [
    "# Time-based features from datetime\n",
    "df['year'] = df['date_column'].dt.year\n",
    "df['month'] = df['date_column'].dt.month\n",
    "df['day'] = df['date_column'].dt.day\n",
    "df['weekday'] = df['date_column'].dt.weekday"
   ]
  }
 ],
 "metadata": {},
 "nbformat": 4,
 "nbformat_minor": 5
}
